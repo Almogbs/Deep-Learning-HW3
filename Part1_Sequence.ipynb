{
 "cells": [
  {
   "cell_type": "markdown",
   "metadata": {},
   "source": [
    "$$\n",
    "\\newcommand{\\mat}[1]{\\boldsymbol {#1}}\n",
    "\\newcommand{\\mattr}[1]{\\boldsymbol {#1}^\\top}\n",
    "\\newcommand{\\matinv}[1]{\\boldsymbol {#1}^{-1}}\n",
    "\\newcommand{\\vec}[1]{\\boldsymbol {#1}}\n",
    "\\newcommand{\\vectr}[1]{\\boldsymbol {#1}^\\top}\n",
    "\\newcommand{\\rvar}[1]{\\mathrm {#1}}\n",
    "\\newcommand{\\rvec}[1]{\\boldsymbol{\\mathrm{#1}}}\n",
    "\\newcommand{\\diag}{\\mathop{\\mathrm {diag}}}\n",
    "\\newcommand{\\set}[1]{\\mathbb {#1}}\n",
    "\\newcommand{\\norm}[1]{\\left\\lVert#1\\right\\rVert}\n",
    "\\newcommand{\\pderiv}[2]{\\frac{\\partial #1}{\\partial #2}}\n",
    "\\newcommand{\\bb}[1]{\\boldsymbol{#1}}\n",
    "$$\n",
    "# Part 1: Sequence Models\n",
    "<a id=part1></a>"
   ]
  },
  {
   "cell_type": "markdown",
   "metadata": {},
   "source": [
    "In this part we will learn about working with text sequences using recurrent neural networks.\n",
    "We'll go from a raw text file all the way to a fully trained GRU-RNN model and generate works of art!"
   ]
  },
  {
   "cell_type": "code",
   "execution_count": 1,
   "metadata": {},
   "outputs": [],
   "source": [
    "import unittest\n",
    "import os\n",
    "import sys\n",
    "import pathlib\n",
    "import urllib\n",
    "import shutil\n",
    "import re\n",
    "\n",
    "import numpy as np\n",
    "import torch\n",
    "import matplotlib.pyplot as plt\n",
    "\n",
    "%load_ext autoreload\n",
    "%autoreload 2"
   ]
  },
  {
   "cell_type": "code",
   "execution_count": 2,
   "metadata": {},
   "outputs": [
    {
     "name": "stdout",
     "output_type": "stream",
     "text": [
      "Using device: cuda\n"
     ]
    }
   ],
   "source": [
    "test = unittest.TestCase()\n",
    "plt.rcParams.update({'font.size': 12})\n",
    "device = torch.device('cuda' if torch.cuda.is_available() else 'cpu')\n",
    "print('Using device:', device)"
   ]
  },
  {
   "cell_type": "markdown",
   "metadata": {},
   "source": [
    "## Text generation with a char-level RNN\n",
    "<a id=part1_1></a>"
   ]
  },
  {
   "cell_type": "markdown",
   "metadata": {},
   "source": [
    "### Obtaining the corpus\n",
    "<a id=part1_2></a>"
   ]
  },
  {
   "cell_type": "markdown",
   "metadata": {},
   "source": [
    "Let's begin by downloading a corpus containing all the works of William Shakespeare.\n",
    "Since he was very prolific, this corpus is fairly large and will provide us with enough data for\n",
    "obtaining impressive results."
   ]
  },
  {
   "cell_type": "code",
   "execution_count": 3,
   "metadata": {},
   "outputs": [
    {
     "name": "stdout",
     "output_type": "stream",
     "text": [
      "Corpus file /home/almogbs/.pytorch-datasets/shakespeare.txt exists, skipping download.\n"
     ]
    }
   ],
   "source": [
    "CORPUS_URL = 'https://github.com/cedricdeboom/character-level-rnn-datasets/raw/master/datasets/shakespeare.txt'\n",
    "DATA_DIR = pathlib.Path.home().joinpath('.pytorch-datasets')\n",
    "\n",
    "def download_corpus(out_path=DATA_DIR, url=CORPUS_URL, force=False):\n",
    "    pathlib.Path(out_path).mkdir(exist_ok=True)\n",
    "    out_filename = os.path.join(out_path, os.path.basename(url))\n",
    "    \n",
    "    if os.path.isfile(out_filename) and not force:\n",
    "        print(f'Corpus file {out_filename} exists, skipping download.')\n",
    "    else:\n",
    "        print(f'Downloading {url}...')\n",
    "        with urllib.request.urlopen(url) as response, open(out_filename, 'wb') as out_file:\n",
    "            shutil.copyfileobj(response, out_file)\n",
    "        print(f'Saved to {out_filename}.')\n",
    "    return out_filename\n",
    "    \n",
    "corpus_path = download_corpus()"
   ]
  },
  {
   "cell_type": "markdown",
   "metadata": {},
   "source": [
    "Load the text into memory and print a snippet:"
   ]
  },
  {
   "cell_type": "code",
   "execution_count": 4,
   "metadata": {},
   "outputs": [
    {
     "name": "stdout",
     "output_type": "stream",
     "text": [
      "Corpus length: 6347703 chars\n",
      "ALLS WELL THAT ENDS WELL\n",
      "\n",
      "by William Shakespeare\n",
      "\n",
      "Dramatis Personae\n",
      "\n",
      "  KING OF FRANCE\n",
      "  THE DUKE OF FLORENCE\n",
      "  BERTRAM, Count of Rousillon\n",
      "  LAFEU, an old lord\n",
      "  PAROLLES, a follower of Bertram\n",
      "  TWO FRENCH LORDS, serving with Bertram\n",
      "\n",
      "  STEWARD, Servant to the Countess of Rousillon\n",
      "  LAVACHE, a clown and Servant to the Countess of Rousillon\n",
      "  A PAGE, Servant to the Countess of Rousillon\n",
      "\n",
      "  COUNTESS OF ROUSILLON, mother to Bertram\n",
      "  HELENA, a gentlewoman protected by the Countess\n",
      "  A WIDOW OF FLORENCE.\n",
      "  DIANA, daughter to the Widow\n",
      "\n",
      "  VIOLENTA, neighbour and friend to the Widow\n",
      "  MARIANA, neighbour and friend to the Widow\n",
      "\n",
      "  Lords, Officers, Soldiers, etc., French and Florentine  \n",
      "\n",
      "SCENE:\n",
      "Rousillon; Paris; Florence; Marseilles\n",
      "\n",
      "ACT I. SCENE 1.\n",
      "Rousillon. The COUNT'S palace\n",
      "\n",
      "Enter BERTRAM, the COUNTESS OF ROUSILLON, HELENA, and LAFEU, all in black\n",
      "\n",
      "  COUNTESS. In delivering my son from me, I bury a second husband.\n",
      "  BERTRAM. And I in going, madam, weep o'er my father's death anew;\n",
      "    but I must attend his Majesty's command, to whom I am now in\n",
      "    ward, evermore in subjection.\n",
      "  LAFEU. You shall find of the King a husband, madam; you, sir, a\n",
      "    father. He that so generally is at all times good must of\n",
      "    \n"
     ]
    }
   ],
   "source": [
    "with open(corpus_path, 'r', encoding='utf-8') as f:\n",
    "    corpus = f.read()\n",
    "\n",
    "print(f'Corpus length: {len(corpus)} chars')\n",
    "print(corpus[7:1234])"
   ]
  },
  {
   "cell_type": "markdown",
   "metadata": {},
   "source": [
    "### Data Preprocessing\n",
    "<a id=part1_3></a>"
   ]
  },
  {
   "cell_type": "markdown",
   "metadata": {},
   "source": [
    "The first thing we'll need is to map from each unique character in the corpus to an index that will represent it in our learning process.\n",
    "\n",
    "**TODO**: Implement the `char_maps()` function in the `hw3/charnn.py` module."
   ]
  },
  {
   "cell_type": "code",
   "execution_count": 5,
   "metadata": {},
   "outputs": [
    {
     "name": "stdout",
     "output_type": "stream",
     "text": [
      "{'\\n': 0, ' ': 1, '!': 2, '\"': 3, '$': 4, '&': 5, \"'\": 6, '(': 7, ')': 8, ',': 9, '-': 10, '.': 11, '0': 12, '1': 13, '2': 14, '3': 15, '4': 16, '5': 17, '6': 18, '7': 19, '8': 20, '9': 21, ':': 22, ';': 23, '<': 24, '?': 25, 'A': 26, 'B': 27, 'C': 28, 'D': 29, 'E': 30, 'F': 31, 'G': 32, 'H': 33, 'I': 34, 'J': 35, 'K': 36, 'L': 37, 'M': 38, 'N': 39, 'O': 40, 'P': 41, 'Q': 42, 'R': 43, 'S': 44, 'T': 45, 'U': 46, 'V': 47, 'W': 48, 'X': 49, 'Y': 50, 'Z': 51, '[': 52, ']': 53, '_': 54, 'a': 55, 'b': 56, 'c': 57, 'd': 58, 'e': 59, 'f': 60, 'g': 61, 'h': 62, 'i': 63, 'j': 64, 'k': 65, 'l': 66, 'm': 67, 'n': 68, 'o': 69, 'p': 70, 'q': 71, 'r': 72, 's': 73, 't': 74, 'u': 75, 'v': 76, 'w': 77, 'x': 78, 'y': 79, 'z': 80, '}': 81, '\\ufeff': 82}\n"
     ]
    }
   ],
   "source": [
    "import hw3.charnn as charnn\n",
    "\n",
    "char_to_idx, idx_to_char = charnn.char_maps(corpus)\n",
    "print(char_to_idx)\n",
    "\n",
    "test.assertEqual(len(char_to_idx), len(idx_to_char))\n",
    "test.assertSequenceEqual(list(char_to_idx.keys()), list(idx_to_char.values()))\n",
    "test.assertSequenceEqual(list(char_to_idx.values()), list(idx_to_char.keys()))"
   ]
  },
  {
   "cell_type": "markdown",
   "metadata": {},
   "source": [
    "Seems we have some strange characters in the corpus that are very rare and are probably due to mistakes.\n",
    "To reduce the length of each tensor we'll need to later represent our chars, it's best to remove them.\n",
    "\n",
    "**TODO**: Implement the `remove_chars()` function in the `hw3/charnn.py` module."
   ]
  },
  {
   "cell_type": "code",
   "execution_count": 6,
   "metadata": {},
   "outputs": [
    {
     "name": "stdout",
     "output_type": "stream",
     "text": [
      "Removed 34 chars\n"
     ]
    }
   ],
   "source": [
    "corpus, n_removed = charnn.remove_chars(corpus, ['}','$','_','<','\\ufeff'])\n",
    "print(f'Removed {n_removed} chars')\n",
    "\n",
    "# After removing the chars, re-create the mappings\n",
    "char_to_idx, idx_to_char = charnn.char_maps(corpus)"
   ]
  },
  {
   "cell_type": "markdown",
   "metadata": {},
   "source": [
    "The next thing we need is an **embedding** of the chracters.\n",
    "An embedding is a representation of each token from the sequence as a tensor.\n",
    "For a char-level RNN, our tokens will be chars and we can thus use the simplest possible embedding: encode each char as a **one-hot** tensor. In other words, each char will be represented\n",
    "as a tensor whos length is the total number of unique chars (`V`) which contains all zeros except at the index\n",
    "corresponding to that specific char.\n",
    "\n",
    "**TODO**: Implement the functions `chars_to_onehot()` and `onehot_to_chars()` in the `hw3/charnn.py` module."
   ]
  },
  {
   "cell_type": "code",
   "execution_count": 7,
   "metadata": {},
   "outputs": [
    {
     "name": "stdout",
     "output_type": "stream",
     "text": [
      "brine a maiden can season her praise in.\n",
      "   \n",
      "tensor([[0, 0, 0, 0, 0, 0, 0, 0, 0, 0, 0, 0, 0, 0, 0, 0, 0, 0, 0, 0, 0, 0, 0, 0,\n",
      "         0, 0, 0, 0, 0, 0, 0, 0, 0, 0, 0, 0, 0, 0, 0, 0, 0, 0, 0, 0, 0, 0, 0, 0,\n",
      "         0, 0, 0, 0, 0, 1, 0, 0, 0, 0, 0, 0, 0, 0, 0, 0, 0, 0, 0, 0, 0, 0, 0, 0,\n",
      "         0, 0, 0, 0, 0, 0],\n",
      "        [0, 0, 0, 0, 0, 0, 0, 0, 0, 0, 0, 0, 0, 0, 0, 0, 0, 0, 0, 0, 0, 0, 0, 0,\n",
      "         0, 0, 0, 0, 0, 0, 0, 0, 0, 0, 0, 0, 0, 0, 0, 0, 0, 0, 0, 0, 0, 0, 0, 0,\n",
      "         0, 0, 0, 0, 0, 0, 0, 0, 0, 0, 0, 0, 0, 0, 0, 0, 0, 0, 0, 0, 0, 1, 0, 0,\n",
      "         0, 0, 0, 0, 0, 0],\n",
      "        [0, 0, 0, 0, 0, 0, 0, 0, 0, 0, 0, 0, 0, 0, 0, 0, 0, 0, 0, 0, 0, 0, 0, 0,\n",
      "         0, 0, 0, 0, 0, 0, 0, 0, 0, 0, 0, 0, 0, 0, 0, 0, 0, 0, 0, 0, 0, 0, 0, 0,\n",
      "         0, 0, 0, 0, 0, 0, 0, 0, 0, 0, 0, 0, 1, 0, 0, 0, 0, 0, 0, 0, 0, 0, 0, 0,\n",
      "         0, 0, 0, 0, 0, 0]], dtype=torch.int8)\n"
     ]
    }
   ],
   "source": [
    "# Wrap the actual embedding functions for calling convenience\n",
    "def embed(text):\n",
    "    return charnn.chars_to_onehot(text, char_to_idx)\n",
    "\n",
    "def unembed(embedding):\n",
    "    return charnn.onehot_to_chars(embedding, idx_to_char)\n",
    "\n",
    "text_snippet = corpus[3104:3148]\n",
    "print(text_snippet)\n",
    "print(embed(text_snippet[0:3]))\n",
    "\n",
    "test.assertEqual(text_snippet, unembed(embed(text_snippet)))\n",
    "test.assertEqual(embed(text_snippet).dtype, torch.int8)"
   ]
  },
  {
   "cell_type": "markdown",
   "metadata": {},
   "source": [
    "### Dataset Creation\n",
    "<a id=part1_4></a>"
   ]
  },
  {
   "cell_type": "markdown",
   "metadata": {},
   "source": [
    "We wish to train our model to generate text by constantly predicting what the next char should be based on the past.\n",
    "To that end we'll need to train our recurrent network in a way similar to a classification task. At each timestep, we input a char and set the expected output (label) to be the next char in the original sequence.\n",
    "\n",
    "We will split our corpus into shorter sequences of length `S` chars (see question below).\n",
    "Each **sample** we provide our model with will therefore be a tensor of shape `(S,V)` where `V` is the embedding dimension. Our model will operate sequentially on each char in the sequence.\n",
    "For each sample, we'll also need a **label**. This is simply another sequence, shifted by one char so that the label of each char is the next char in the corpus."
   ]
  },
  {
   "cell_type": "markdown",
   "metadata": {},
   "source": [
    "**TODO**: Implement the `chars_to_labelled_samples()` function in the `hw3/charnn.py` module."
   ]
  },
  {
   "cell_type": "code",
   "execution_count": 8,
   "metadata": {},
   "outputs": [
    {
     "name": "stdout",
     "output_type": "stream",
     "text": [
      "samples shape: torch.Size([99182, 64, 78])\n",
      "labels shape: torch.Size([99182, 64])\n"
     ]
    }
   ],
   "source": [
    "# Create dataset of sequences\n",
    "seq_len = 64\n",
    "vocab_len = len(char_to_idx)\n",
    "\n",
    "# Create labelled samples\n",
    "samples, labels = charnn.chars_to_labelled_samples(corpus, char_to_idx, seq_len, device)\n",
    "print(f'samples shape: {samples.shape}')\n",
    "print(f'labels shape: {labels.shape}')\n",
    "\n",
    "# Test shapes\n",
    "num_samples = (len(corpus) - 1) // seq_len\n",
    "test.assertEqual(samples.shape, (num_samples, seq_len, vocab_len))\n",
    "test.assertEqual(labels.shape, (num_samples, seq_len))\n",
    "\n",
    "# Test content\n",
    "for _ in range(1000):\n",
    "    # random sample\n",
    "    i = np.random.randint(num_samples, size=(1,))[0]\n",
    "    # Compare to corpus\n",
    "    test.assertEqual(unembed(samples[i]), corpus[i*seq_len:(i+1)*seq_len], msg=f\"content mismatch in sample {i}\")\n",
    "    # Compare to labels\n",
    "    sample_text = unembed(samples[i])\n",
    "    label_text = str.join('', [idx_to_char[j.item()] for j in labels[i]])\n",
    "    test.assertEqual(sample_text[1:], label_text[0:-1], msg=f\"label mismatch in sample {i}\")"
   ]
  },
  {
   "cell_type": "markdown",
   "metadata": {},
   "source": [
    "Let's print a few consecutive samples. You should see that the text continues between them."
   ]
  },
  {
   "cell_type": "code",
   "execution_count": 9,
   "metadata": {},
   "outputs": [
    {
     "name": "stdout",
     "output_type": "stream",
     "text": [
      "sample [47873]:\n",
      "\tl go hard but I will better the instruction.\n",
      "sample [47874]:\n",
      "\tEnter a MAN from ANTONIO MAN. Gentlemen, my master Anto\n",
      "sample [47875]:\n",
      "\tnio is at his house, and desires to speak with you both. S\n",
      "sample [47876]:\n",
      "\tALERIO. We have been up and down to seek him.\n",
      "sample [47877]:\n",
      "\tEnter TUBAL SOLANIO. Here comes another of the tribe\n"
     ]
    }
   ],
   "source": [
    "import re\n",
    "import random\n",
    "\n",
    "i = random.randrange(num_samples-5)\n",
    "for i in range(i, i+5):\n",
    "    test.assertEqual(len(samples[i]), seq_len)\n",
    "    s = re.sub(r'\\s+', ' ', unembed(samples[i])).strip()\n",
    "    print(f'sample [{i}]:\\n\\t{s}')"
   ]
  },
  {
   "cell_type": "markdown",
   "metadata": {},
   "source": [
    "As usual, instead of feeding one sample at a time into our model's forward we'll work with **batches** of samples. This means that at every timestep, our model will operate on a batch of chars that are from **different sequences**.\n",
    "Effectively this will allow us to parallelize training our model by dong matrix-matrix multiplications\n",
    "instead of matrix-vector during the forward pass."
   ]
  },
  {
   "cell_type": "markdown",
   "metadata": {},
   "source": [
    "An important nuance is that we need the batches to be **contiguous**, i.e. sample $k$ in batch $j$ should continue sample $k$ from batch $j-1$.\n",
    "The following figure illustrates this:\n",
    "\n",
    "<img src=\"imgs/rnn-batching.png\"/>\n",
    "\n",
    "If we naïvely take consecutive samples into batches, e.g. `[0,1,...,B-1]`, `[B,B+1,...,2B-1]` and so on, we won't have contiguous\n",
    "sequences at the same index between adjacent batches.\n",
    "\n",
    "To accomplish this we need to tell our `DataLoader` which samples to combine together into one batch.\n",
    "We do this by implementing a custom PyTorch `Sampler`, and providing it to our `DataLoader`."
   ]
  },
  {
   "cell_type": "markdown",
   "metadata": {},
   "source": [
    "**TODO**: Implement the `SequenceBatchSampler` class in the `hw3/charnn.py` module."
   ]
  },
  {
   "cell_type": "code",
   "execution_count": 10,
   "metadata": {},
   "outputs": [
    {
     "name": "stdout",
     "output_type": "stream",
     "text": [
      "sampler_idx =\n",
      " [tensor(0), tensor(3), tensor(6), tensor(9), tensor(12), tensor(15), tensor(18), tensor(21), tensor(24), tensor(27), tensor(1), tensor(4), tensor(7), tensor(10), tensor(13), tensor(16), tensor(19), tensor(22), tensor(25), tensor(28), tensor(2), tensor(5), tensor(8), tensor(11), tensor(14), tensor(17), tensor(20), tensor(23), tensor(26), tensor(29)]\n"
     ]
    }
   ],
   "source": [
    "from hw3.charnn import SequenceBatchSampler\n",
    "\n",
    "sampler = SequenceBatchSampler(dataset=range(32), batch_size=10)\n",
    "sampler_idx = list(sampler)\n",
    "print('sampler_idx =\\n', sampler_idx)\n",
    "\n",
    "# Test the Sampler\n",
    "test.assertEqual(len(sampler_idx), 30)\n",
    "batch_idx = np.array(sampler_idx).reshape(-1, 10)\n",
    "for k in range(10):\n",
    "    test.assertEqual(np.diff(batch_idx[:, k], n=2).item(), 0)"
   ]
  },
  {
   "cell_type": "markdown",
   "metadata": {},
   "source": [
    "Even though we're working with sequences, we can still use the standard PyTorch `Dataset`/`DataLoader` combo.\n",
    "For the dataset we can use a built-in class, `TensorDataset` to return tuples of `(sample, label)`\n",
    "from the `samples` and `labels` tensors we created above.\n",
    "The `DataLoader` will be provided with our custom `Sampler` so that it generates appropriate batches."
   ]
  },
  {
   "cell_type": "code",
   "execution_count": 11,
   "metadata": {},
   "outputs": [],
   "source": [
    "import torch.utils.data\n",
    "\n",
    "# Create DataLoader returning batches of samples.\n",
    "batch_size = 32\n",
    "\n",
    "ds_corpus = torch.utils.data.TensorDataset(samples, labels)\n",
    "sampler_corpus = SequenceBatchSampler(ds_corpus, batch_size)\n",
    "dl_corpus = torch.utils.data.DataLoader(ds_corpus, batch_size=batch_size, sampler=sampler_corpus, shuffle=False)"
   ]
  },
  {
   "cell_type": "markdown",
   "metadata": {},
   "source": [
    "Let's see what that gives us:"
   ]
  },
  {
   "cell_type": "code",
   "execution_count": 12,
   "metadata": {},
   "outputs": [
    {
     "name": "stdout",
     "output_type": "stream",
     "text": [
      "num batches: 3100\n",
      "shape of a batch of samples: torch.Size([32, 64, 78])\n",
      "shape of a batch of labels: torch.Size([32, 64])\n"
     ]
    }
   ],
   "source": [
    "print(f'num batches: {len(dl_corpus)}')\n",
    "\n",
    "x0, y0 = next(iter(dl_corpus))\n",
    "print(f'shape of a batch of samples: {x0.shape}')\n",
    "print(f'shape of a batch of labels: {y0.shape}')"
   ]
  },
  {
   "cell_type": "markdown",
   "metadata": {},
   "source": [
    "Now lets look at the same sample index from multiple batches taken from our corpus."
   ]
  },
  {
   "cell_type": "code",
   "execution_count": 13,
   "metadata": {},
   "outputs": [
    {
     "name": "stdout",
     "output_type": "stream",
     "text": [
      "=== batch 0, sample 29 (torch.Size([64, 78])): ===\n",
      "\tR LAURENCE: Romeo, come forth; come forth, thou fearful man: Aff\n",
      "=== batch 1, sample 29 (torch.Size([64, 78])): ===\n",
      "\tliction is enamour'd of thy parts, And thou art wedded to calami\n",
      "=== batch 2, sample 29 (torch.Size([64, 78])): ===\n",
      "\tty. ROMEO: Father, what news? what is the prince's doom? What s\n",
      "=== batch 3, sample 29 (torch.Size([64, 78])): ===\n",
      "\torrow craves acquaintance at my hand, That I yet know not? FRIA\n",
      "=== batch 4, sample 29 (torch.Size([64, 78])): ===\n",
      "\tR LAURENCE: Too familiar Is my dear son with such sour company:\n"
     ]
    }
   ],
   "source": [
    "# Check that sentences in in same index of different batches complete each other.\n",
    "k = random.randrange(batch_size)\n",
    "for j, (X, y) in enumerate(dl_corpus,):\n",
    "    print(f'=== batch {j}, sample {k} ({X[k].shape}): ===')\n",
    "    s = re.sub(r'\\s+', ' ', unembed(X[k])).strip()\n",
    "    print(f'\\t{s}')\n",
    "    if j==4: break"
   ]
  },
  {
   "cell_type": "markdown",
   "metadata": {},
   "source": [
    "### Model Implementation\n",
    "<a id=part1_5></a>"
   ]
  },
  {
   "cell_type": "markdown",
   "metadata": {},
   "source": [
    "Finally, our data set is ready so we can focus on our model.\n",
    "\n",
    "We'll implement here is a multilayer gated recurrent unit (GRU) model, with dropout.\n",
    "This model is a type of RNN which performs similar to the well-known LSTM model,\n",
    "but it's somewhat easier to train because it has less parameters.\n",
    "We'll modify the regular GRU slightly by applying dropout to\n",
    "the hidden states passed between layers of the model.\n",
    "\n",
    "The model accepts an input $\\mat{X}\\in\\set{R}^{S\\times V}$ containing a sequence of embedded chars.\n",
    "It returns an output $\\mat{Y}\\in\\set{R}^{S\\times V}$ of predictions for the next char and the final hidden state\n",
    "$\\mat{H}\\in\\set{R}^{L\\times H}$. Here $S$ is the sequence length, $V$ is the vocabulary size (number of unique chars), $L$ is the number of layers in the model and $H$ is the hidden dimension."
   ]
  },
  {
   "cell_type": "markdown",
   "metadata": {},
   "source": [
    "Mathematically, the model's forward function at layer $k\\in[1,L]$ and timestep $t\\in[1,S]$ can be described as\n",
    "\n",
    "$$\n",
    "\\begin{align}\n",
    "\\vec{z_t}^{[k]} &= \\sigma\\left(\\vec{x}^{[k]}_t {\\mattr{W}_{\\mathrm{xz}}}^{[k]} +\n",
    "    \\vec{h}_{t-1}^{[k]} {\\mattr{W}_{\\mathrm{hz}}}^{[k]} + \\vec{b}_{\\mathrm{z}}^{[k]}\\right) \\\\\n",
    "\\vec{r_t}^{[k]} &= \\sigma\\left(\\vec{x}^{[k]}_t {\\mattr{W}_{\\mathrm{xr}}}^{[k]} +\n",
    "    \\vec{h}_{t-1}^{[k]} {\\mattr{W}_{\\mathrm{hr}}}^{[k]} + \\vec{b}_{\\mathrm{r}}^{[k]}\\right) \\\\\n",
    "\\vec{g_t}^{[k]} &= \\tanh\\left(\\vec{x}^{[k]}_t {\\mattr{W}_{\\mathrm{xg}}}^{[k]} +\n",
    "    (\\vec{r_t}^{[k]}\\odot\\vec{h}_{t-1}^{[k]}) {\\mattr{W}_{\\mathrm{hg}}}^{[k]} + \\vec{b}_{\\mathrm{g}}^{[k]}\\right) \\\\\n",
    "\\vec{h_t}^{[k]} &= \\vec{z}^{[k]}_t \\odot \\vec{h}^{[k]}_{t-1} + \\left(1-\\vec{z}^{[k]}_t\\right)\\odot \\vec{g_t}^{[k]}\n",
    "\\end{align}\n",
    "$$"
   ]
  },
  {
   "cell_type": "markdown",
   "metadata": {},
   "source": [
    "The input to each layer is,\n",
    "$$\n",
    "\\mat{X}^{[k]} =\n",
    "\\begin{bmatrix}\n",
    "    {\\vec{x}_1}^{[k]} \\\\ \\vdots \\\\ {\\vec{x}_S}^{[k]}\n",
    "\\end{bmatrix} \n",
    "=\n",
    "\\begin{cases}\n",
    "    \\mat{X} & \\mathrm{if} ~k = 1~ \\\\\n",
    "    \\mathrm{dropout}_p \\left(\n",
    "    \\begin{bmatrix}\n",
    "        {\\vec{h}_1}^{[k-1]} \\\\ \\vdots \\\\ {\\vec{h}_S}^{[k-1]}\n",
    "    \\end{bmatrix} \\right) & \\mathrm{if} ~1 < k \\leq L+1~\n",
    "\\end{cases}.\n",
    "$$"
   ]
  },
  {
   "cell_type": "markdown",
   "metadata": {},
   "source": [
    "The output of the entire model is then,\n",
    "$$\n",
    "\\mat{Y} = \\mat{X}^{[L+1]} {\\mattr{W}_{\\mathrm{hy}}} + \\mat{B}_{\\mathrm{y}}\n",
    "$$"
   ]
  },
  {
   "cell_type": "markdown",
   "metadata": {},
   "source": [
    "and the final hidden state is\n",
    "$$\n",
    "\\mat{H} = \n",
    "\\begin{bmatrix}\n",
    "    {\\vec{h}_S}^{[1]} \\\\ \\vdots \\\\ {\\vec{h}_S}^{[L]}\n",
    "\\end{bmatrix}.\n",
    "$$"
   ]
  },
  {
   "cell_type": "markdown",
   "metadata": {},
   "source": [
    "Notes:\n",
    "- $t\\in[1,S]$ is the timestep, i.e. the current position within the sequence of each sample.\n",
    "- $\\vec{x}_t^{[k]}$ is the input of layer $k$ at timestep $t$, respectively.\n",
    "- The outputs of the **last layer** $\\vec{y}_t^{[L]}$, are the predicted next characters for every input char.\n",
    "  These are similar to class scores in classification tasks.\n",
    "- The hidden states at the **last timestep**, $\\vec{h}_S^{[k]}$, are the final hidden state returned from the model.\n",
    "- $\\sigma(\\cdot)$ is the sigmoid function, i.e. $\\sigma(\\vec{z}) = 1/(1+e^{-\\vec{z}})$ which returns values in $(0,1)$.\n",
    "- $\\tanh(\\cdot)$ is the hyperbolic tangent, i.e. $\\tanh(\\vec{z}) = (e^{2\\vec{z}}-1)/(e^{2\\vec{z}}+1)$ which returns values in $(-1,1)$.\n",
    "- $\\vec{h_t}^{[k]}$ is the hidden state of layer $k$ at time $t$. This can be thought of as the memory of that layer.\n",
    "- $\\vec{g_t}^{[k]}$ is the candidate hidden state for time $t+1$.\n",
    "- $\\vec{z_t}^{[k]}$ is known as the update gate. It combines the previous state with the input to determine how much the current state will be combined with the new candidate state. For example, if $\\vec{z_t}^{[k]}=\\vec{1}$ then the current input has no effect on the output.\n",
    "- $\\vec{r_t}^{[k]}$ is known as the reset gate. It combines the previous state with the input to determine how much of the previous state will affect the current state candidate. For example if $\\vec{r_t}^{[k]}=\\vec{0}$ the previous state has no effect on the current candidate state."
   ]
  },
  {
   "cell_type": "markdown",
   "metadata": {},
   "source": [
    "Here's a graphical representation of the GRU's forward pass at each timestep. The $\\vec{\\tilde{h}}$ in the image is our $\\vec{g}$ (candidate next state).\n",
    "\n",
    "<img src=\"imgs/gru_cell.png\" width=\"400\"/>\n",
    "\n",
    "You can see how the reset and update gates allow the model to completely ignore it's previous state, completely ignore it's input, or any mixture of those states (since the gates are actually continuous and between $(0,1)$)."
   ]
  },
  {
   "cell_type": "markdown",
   "metadata": {},
   "source": [
    "Here's a graphical representation of the entire model.\n",
    "You can ignore the $c_t^{[k]}$ (cell state) variables (which are relevant for LSTM models).\n",
    "Our model has only the hidden state, $h_t^{[k]}$. Also notice that we added dropout between layers (i.e., on the up arrows).\n",
    "\n",
    "<img src=\"imgs/lstm_model.png\" />\n",
    "\n",
    "The purple tensors are inputs (a sequence and initial hidden state per layer), and the green tensors are outputs (another sequence and final hidden state per layer). Each blue block implements the above forward equations.\n",
    "Blocks that are on the same vertical level are at the same layer, and therefore share parameters."
   ]
  },
  {
   "cell_type": "markdown",
   "metadata": {},
   "source": [
    "**TODO**: Implement the `MultilayerGRU` class in the `hw3/charnn.py` module.\n",
    "\n",
    "Notes:\n",
    "- You'll need to handle input **batches** now.\n",
    "  The math is identical to the above, but all the tensors will have an extra batch\n",
    "  dimension as their first dimension.\n",
    "- Use the diagram above to help guide your implementation.\n",
    "  It will help you visualize what shapes to returns where, etc.\n"
   ]
  },
  {
   "cell_type": "code",
   "execution_count": 14,
   "metadata": {},
   "outputs": [
    {
     "name": "stdout",
     "output_type": "stream",
     "text": [
      "MultilayerGRU(\n",
      "  (sm): Sigmoid()\n",
      "  (tanh): Tanh()\n",
      "  (dol): Dropout(p=0, inplace=False)\n",
      "  (l0-Wxz:): Linear(in_features=78, out_features=256, bias=False)\n",
      "  (l0-Whz:): Linear(in_features=256, out_features=256, bias=True)\n",
      "  (l0-Wxr:): Linear(in_features=78, out_features=256, bias=False)\n",
      "  (l0-Whr:): Linear(in_features=256, out_features=256, bias=True)\n",
      "  (l0-Wxg:): Linear(in_features=78, out_features=256, bias=False)\n",
      "  (l0-Whg:): Linear(in_features=256, out_features=256, bias=True)\n",
      "  (l1-Wxz:): Linear(in_features=256, out_features=256, bias=False)\n",
      "  (l1-Whz:): Linear(in_features=256, out_features=256, bias=True)\n",
      "  (l1-Wxr:): Linear(in_features=256, out_features=256, bias=False)\n",
      "  (l1-Whr:): Linear(in_features=256, out_features=256, bias=True)\n",
      "  (l1-Wxg:): Linear(in_features=256, out_features=256, bias=False)\n",
      "  (l1-Whg:): Linear(in_features=256, out_features=256, bias=True)\n",
      "  (l2-Wxz:): Linear(in_features=256, out_features=256, bias=False)\n",
      "  (l2-Whz:): Linear(in_features=256, out_features=256, bias=True)\n",
      "  (l2-Wxr:): Linear(in_features=256, out_features=256, bias=False)\n",
      "  (l2-Whr:): Linear(in_features=256, out_features=256, bias=True)\n",
      "  (l2-Wxg:): Linear(in_features=256, out_features=256, bias=False)\n",
      "  (l2-Whg:): Linear(in_features=256, out_features=256, bias=True)\n",
      "  (lout-Why:): Linear(in_features=256, out_features=78, bias=True)\n",
      ")\n",
      "y.shape=torch.Size([32, 64, 78])\n",
      "h.shape=torch.Size([32, 3, 256])\n"
     ]
    }
   ],
   "source": [
    "in_dim = vocab_len\n",
    "h_dim = 256\n",
    "n_layers = 3\n",
    "model = charnn.MultilayerGRU(in_dim, h_dim, out_dim=in_dim, n_layers=n_layers)\n",
    "model = model.to(device)\n",
    "print(model)\n",
    "\n",
    "# Test forward pass\n",
    "y, h = model(x0.to(dtype=torch.float, device=device))\n",
    "print(f'y.shape={y.shape}')\n",
    "print(f'h.shape={h.shape}')\n",
    "\n",
    "test.assertEqual(y.shape, (batch_size, seq_len, vocab_len))\n",
    "test.assertEqual(h.shape, (batch_size, n_layers, h_dim))\n",
    "test.assertEqual(len(list(model.parameters())), 9 * n_layers + 2) "
   ]
  },
  {
   "cell_type": "markdown",
   "metadata": {},
   "source": [
    "### Generating text by sampling\n",
    "<a id=part1_6></a>"
   ]
  },
  {
   "cell_type": "markdown",
   "metadata": {},
   "source": [
    "Now that we have a model, we can implement **text generation** based on it.\n",
    "The idea is simple:\n",
    "At each timestep our model receives one char $x_t$ from the input sequence and outputs scores $y_t$\n",
    "for what the next char should be.\n",
    "We'll convert these scores into a probability over each of the possible chars.\n",
    "In other words, for each input char $x_t$ we create a probability distribution for the next char\n",
    "conditioned on the current one and the state of the model (representing all previous inputs):\n",
    "$$p(x_{t+1}|x_t, \\vec{h}_t).$$\n",
    "\n",
    "Once we have such a distribution, we'll sample a char from it.\n",
    "This will be the first char of our generated sequence.\n",
    "Now we can feed this new char into the model, create another distribution, sample the next char and so on.\n",
    "Note that it's crucial to propagate the hidden state when sampling."
   ]
  },
  {
   "cell_type": "markdown",
   "metadata": {},
   "source": [
    "The important point however is how to create the distribution from the scores.\n",
    "One way, as we saw in previous ML tasks, is to use the softmax function.\n",
    "However, a drawback of softmax is that it can generate very diffuse (more uniform) distributions if the score values are very similar. When sampling, we would prefer to control the distributions and make them less uniform to increase the chance of sampling the char(s) with the highest scores compared to the others.\n",
    "\n",
    "To control the variance of the distribution, a common trick is to add a hyperparameter $T$, known as the \n",
    "*temperature* to the softmax function. The class scores are simply scaled by $T$ before softmax is applied:\n",
    "$$\n",
    "\\mathrm{softmax}_T(\\vec{y}) = \\frac{e^{\\vec{y}/T}}{\\sum_k e^{y_k/T}}\n",
    "$$\n",
    "\n",
    "A low $T$ will result in less uniform distributions and vice-versa."
   ]
  },
  {
   "cell_type": "markdown",
   "metadata": {},
   "source": [
    "**TODO**: Implement the `hot_softmax()` function in the `hw3/charnn.py` module."
   ]
  },
  {
   "cell_type": "code",
   "execution_count": 15,
   "metadata": {},
   "outputs": [
    {
     "data": {
      "image/png": "[encoded data removed]",
      "text/plain": [
       "<Figure size 1500x500 with 1 Axes>"
      ]
     },
     "metadata": {},
     "output_type": "display_data"
    }
   ],
   "source": [
    "scores = y[0,0,:].detach()\n",
    "_, ax = plt.subplots(figsize=(15,5))\n",
    "\n",
    "for t in reversed([0.3, 0.5, 1.0, 100]):\n",
    "    ax.plot(charnn.hot_softmax(scores, temperature=t).cpu().numpy(), label=f'T={t}')\n",
    "ax.set_xlabel('$x_{t+1}$')\n",
    "ax.set_ylabel('$p(x_{t+1}|x_t)$')\n",
    "ax.legend()\n",
    "\n",
    "uniform_proba = 1/len(char_to_idx)\n",
    "uniform_diff = torch.abs(charnn.hot_softmax(scores, temperature=100) - uniform_proba)\n",
    "test.assertTrue(torch.all(uniform_diff < 1e-4))"
   ]
  },
  {
   "cell_type": "markdown",
   "metadata": {},
   "source": [
    "**TODO**: Implement the `generate_from_model()` function in the `hw3/charnn.py` module."
   ]
  },
  {
   "cell_type": "code",
   "execution_count": 16,
   "metadata": {},
   "outputs": [
    {
     "name": "stdout",
     "output_type": "stream",
     "text": [
      "foobarA7NH'T!XCAECvtncCFl;1k0ESHrveRFfp,Qy6mPL'A.7\n",
      "foobarrK5L3'u8fcUJc[c9?&WEMSMIX3isz09ghhz\n",
      "id5ojn9u\n",
      "foobar WGZTAEWl?a2&FetOTXzjn[q\"9BF(Zq\n",
      "[:3t8Y xe0sq\n"
     ]
    }
   ],
   "source": [
    "for _ in range(3):\n",
    "    text = charnn.generate_from_model(model, \"foobar\", 50, (char_to_idx, idx_to_char), T=0.5)\n",
    "    print(text)\n",
    "    test.assertEqual(len(text), 50)"
   ]
  },
  {
   "cell_type": "markdown",
   "metadata": {},
   "source": [
    "### Training\n",
    "<a id=part1_7></a>"
   ]
  },
  {
   "cell_type": "markdown",
   "metadata": {},
   "source": [
    "To train this model, we'll calculate the loss at each time step by comparing the predicted char to\n",
    "the actual char from our label. We can use cross entropy since per char it's similar to a classification problem.\n",
    "We'll then sum the losses over the sequence and back-propagate the gradients though time.\n",
    "Notice that the back-propagation algorithm will \"visit\" each layer's parameter tensors multiple times,\n",
    "so we'll accumulate gradients in parameters of the blocks. Luckily `autograd` will handle this part for us."
   ]
  },
  {
   "cell_type": "markdown",
   "metadata": {},
   "source": [
    "As usual, the first step of training will be to try and **overfit** a large model (many parameters) to a tiny dataset.\n",
    "Again, this is to ensure the model and training code are implemented correctly, i.e. that the model can learn.\n",
    "\n",
    "For a generative model such as this, overfitting is slightly trickier than for classification.\n",
    "What we'll aim to do is to get our model to **memorize** a specific sequence of chars, so that when given the first\n",
    "char in the sequence it will immediately spit out the rest of the sequence verbatim.\n",
    "\n",
    "Let's create a tiny dataset to memorize."
   ]
  },
  {
   "cell_type": "code",
   "execution_count": 17,
   "metadata": {},
   "outputs": [
    {
     "name": "stdout",
     "output_type": "stream",
     "text": [
      "Text to \"memorize\":\n",
      "\n",
      "TRAM. What would you have?\n",
      "  HELENA. Something; and scarce so much; nothing, indeed.\n",
      "    I would not tell you what I would, my lord.\n",
      "    Faith, yes:\n",
      "    Strangers and foes do sunder and not kiss.\n",
      "  BERTRAM. I pray you, stay not, but in haste to horse.\n",
      "  HE\n"
     ]
    }
   ],
   "source": [
    "# Pick a tiny subset of the dataset\n",
    "subset_start, subset_end = 1001, 1005\n",
    "ds_corpus_ss = torch.utils.data.Subset(ds_corpus, range(subset_start, subset_end))\n",
    "batch_size_ss = 1\n",
    "sampler_ss = SequenceBatchSampler(ds_corpus_ss, batch_size=batch_size_ss)\n",
    "dl_corpus_ss = torch.utils.data.DataLoader(ds_corpus_ss, batch_size_ss, sampler=sampler_ss, shuffle=False)\n",
    "\n",
    "# Convert subset to text\n",
    "subset_text = ''\n",
    "for i in range(subset_end - subset_start):\n",
    "    subset_text += unembed(ds_corpus_ss[i][0])\n",
    "print(f'Text to \"memorize\":\\n\\n{subset_text}')"
   ]
  },
  {
   "cell_type": "markdown",
   "metadata": {},
   "source": [
    "Now let's implement the first part of our training code.\n",
    "\n",
    "**TODO**: Implement the `train_epoch()` and `train_batch()` methods of the `RNNTrainer` class in the `hw3/training.py` module. \n",
    "You must think about how to correctly handle the hidden state of the model between batches and epochs for this specific task (i.e. text generation)."
   ]
  },
  {
   "cell_type": "code",
   "execution_count": 18,
   "metadata": {},
   "outputs": [
    {
     "name": "stdout",
     "output_type": "stream",
     "text": [
      "\n",
      "Epoch #1: Avg. loss = 3.940, Accuracy = 17.58%\n",
      "Twn                                               n                                                                                                                                                                                                             \n",
      "\n",
      "Epoch #25: Avg. loss = 0.278, Accuracy = 96.09%\n",
      "TRAM. What would you have?\n",
      "  HELENA. Something; and scarce so much; nothing, indeed.\n",
      "    I would not tell you what I would, stand not indeed.\n",
      "    Faith, yes:\n",
      "    Faith, yes:\n",
      "    Faith, yes:\n",
      "    Faith, yes:\n",
      "    Faith, yes:\n",
      "    Faith, yes:\n",
      "    Faith, yes:\n",
      "  \n",
      "\n",
      "Epoch #50: Avg. loss = 0.008, Accuracy = 100.00%\n",
      "TRAM. What would you have?\n",
      "  HELENA. Something; and scarce so much; nothing, indeed.\n",
      "    I would not tell you what I would, my lord.\n",
      "    Faith, yes:\n",
      "    Strangers and foes do sunder and not kiss.\n",
      "  BERTRAM. I pray you, stay not, but in haste to horse.\n",
      "  HE\n"
     ]
    }
   ],
   "source": [
    "import torch.nn as nn\n",
    "import torch.optim as optim\n",
    "from hw3.training import RNNTrainer\n",
    "\n",
    "torch.manual_seed(42)\n",
    "\n",
    "lr = 0.01\n",
    "num_epochs = 500\n",
    "\n",
    "in_dim = vocab_len\n",
    "h_dim = 128\n",
    "n_layers = 2\n",
    "loss_fn = nn.CrossEntropyLoss()\n",
    "model = charnn.MultilayerGRU(in_dim, h_dim, out_dim=in_dim, n_layers=n_layers).to(device)\n",
    "optimizer = optim.Adam(model.parameters(), lr=lr)\n",
    "trainer = RNNTrainer(model, loss_fn, optimizer, device)\n",
    "\n",
    "for epoch in range(num_epochs):\n",
    "    epoch_result = trainer.train_epoch(dl_corpus_ss, verbose=False)\n",
    "    \n",
    "    # Every X epochs, we'll generate a sequence starting from the first char in the first sequence\n",
    "    # to visualize how/if/what the model is learning.\n",
    "    if epoch == 0 or (epoch+1) % 25 == 0:\n",
    "        avg_loss = np.mean(epoch_result.losses)\n",
    "        accuracy = np.mean(epoch_result.accuracy)\n",
    "        print(f'\\nEpoch #{epoch+1}: Avg. loss = {avg_loss:.3f}, Accuracy = {accuracy:.2f}%')\n",
    "        \n",
    "        generated_sequence = charnn.generate_from_model(model, subset_text[0],\n",
    "                                                        seq_len*(subset_end-subset_start),\n",
    "                                                        (char_to_idx,idx_to_char), T=0.1)\n",
    "        \n",
    "        # Stop if we've successfully memorized the small dataset.\n",
    "        print(generated_sequence)\n",
    "        if generated_sequence == subset_text:\n",
    "            break\n",
    "\n",
    "# Test successful overfitting\n",
    "test.assertGreater(epoch_result.accuracy, 99)\n",
    "test.assertEqual(generated_sequence, subset_text)"
   ]
  },
  {
   "cell_type": "markdown",
   "metadata": {},
   "source": [
    "OK, so training works - we can memorize a short sequence.\n",
    "We'll now train a much larger model on our large dataset. You'll need a GPU for this part.\n",
    "\n",
    "First, lets set up our dataset and models for training.\n",
    "We'll split our corpus into 90% train and 10% test-set.\n",
    "Also, we'll use a learning-rate scheduler to control the learning rate during training."
   ]
  },
  {
   "cell_type": "markdown",
   "metadata": {},
   "source": [
    "**TODO**: Set the hyperparameters in the `part1_rnn_hyperparams()` function of the `hw3/answers.py` module."
   ]
  },
  {
   "cell_type": "code",
   "execution_count": 19,
   "metadata": {},
   "outputs": [
    {
     "name": "stdout",
     "output_type": "stream",
     "text": [
      "hyperparams:\n",
      " {'batch_size': 256, 'seq_len': 64, 'h_dim': 128, 'n_layers': 3, 'dropout': 0.2, 'learn_rate': 0.003, 'lr_sched_factor': 0.1, 'lr_sched_patience': 10}\n",
      "Train: 348 batches, 5701632 chars\n",
      "Test:   38 batches,  622592 chars\n"
     ]
    }
   ],
   "source": [
    "from hw3.answers import part1_rnn_hyperparams\n",
    "\n",
    "hp = part1_rnn_hyperparams()\n",
    "print('hyperparams:\\n', hp)\n",
    "\n",
    "### Dataset definition\n",
    "vocab_len = len(char_to_idx)\n",
    "batch_size = hp['batch_size']\n",
    "seq_len = hp['seq_len']\n",
    "train_test_ratio = 0.9\n",
    "num_samples = (len(corpus) - 1) // seq_len\n",
    "num_train = int(train_test_ratio * num_samples)\n",
    "\n",
    "samples, labels = charnn.chars_to_labelled_samples(corpus, char_to_idx, seq_len, device)\n",
    "\n",
    "ds_train = torch.utils.data.TensorDataset(samples[:num_train], labels[:num_train])\n",
    "sampler_train = SequenceBatchSampler(ds_train, batch_size)\n",
    "dl_train = torch.utils.data.DataLoader(ds_train, batch_size, shuffle=False, sampler=sampler_train, drop_last=True)\n",
    "\n",
    "ds_test = torch.utils.data.TensorDataset(samples[num_train:], labels[num_train:])\n",
    "sampler_test = SequenceBatchSampler(ds_test, batch_size)\n",
    "dl_test = torch.utils.data.DataLoader(ds_test, batch_size, shuffle=False, sampler=sampler_test, drop_last=True)\n",
    "\n",
    "print(f'Train: {len(dl_train):3d} batches, {len(dl_train)*batch_size*seq_len:7d} chars')\n",
    "print(f'Test:  {len(dl_test):3d} batches, {len(dl_test)*batch_size*seq_len:7d} chars')\n",
    "\n",
    "### Training definition\n",
    "in_dim = out_dim = vocab_len\n",
    "checkpoint_file = 'checkpoints/rnn'\n",
    "num_epochs = 50\n",
    "early_stopping = 5\n",
    "\n",
    "model = charnn.MultilayerGRU(in_dim, hp['h_dim'], out_dim, hp['n_layers'], hp['dropout'])\n",
    "loss_fn = nn.CrossEntropyLoss()\n",
    "optimizer = optim.Adam(model.parameters(), lr=hp['learn_rate'])\n",
    "scheduler = optim.lr_scheduler.ReduceLROnPlateau(\n",
    "    optimizer, mode='max', factor=hp['lr_sched_factor'], patience=hp['lr_sched_patience'], verbose=True\n",
    ")\n",
    "trainer = RNNTrainer(model, loss_fn, optimizer, device)"
   ]
  },
  {
   "cell_type": "markdown",
   "metadata": {},
   "source": [
    "The code blocks below will train the model and save checkpoints containing the training state and the best model parameters to a file. This allows you to stop training and resume it later from where you left.\n",
    "\n",
    "Note that you can use the `main.py` script provided within the assignment folder to run this notebook from the command line as if it were a python script by using the `run-nb` subcommand. This allows you to train your model using this notebook without starting jupyter. You can combine this with `srun` or `sbatch` to run the notebook with a GPU on the course servers."
   ]
  },
  {
   "cell_type": "markdown",
   "metadata": {},
   "source": [
    "**TODO**:\n",
    "- Implement the `fit()` method of the `Trainer` class. You can reuse the relevant implementation parts from HW2, but make sure to implement early stopping and checkpoints.\n",
    "- Implement the `test_epoch()` and `test_batch()` methods of the `RNNTrainer` class in the `hw3/training.py` module.\n",
    "- Run the following block to train.\n",
    "- When training is done and you're satisfied with the model's outputs, rename the checkpoint file to `checkpoints/rnn_final.pt`.\n",
    "  This will cause the block to skip training and instead load your saved model when running the homework submission script.\n",
    "  Note that your submission zip file will not include the checkpoint file. This is OK."
   ]
  },
  {
   "cell_type": "code",
   "execution_count": 20,
   "metadata": {
    "scrolled": true
   },
   "outputs": [
    {
     "name": "stdout",
     "output_type": "stream",
     "text": [
      "ACT I.q]RwGof\";P\"0xKjl9;5aEX\n",
      "hkf?8!RpRvO)MoR&4'1iv]z)Mad[;,&BX]oO&6g\n",
      "X]y\n",
      "c&kkWwqh)kqy-Xq0M]w6EP?80Ra\n",
      "--- EPOCH 1/50 ---\n",
      "train_batch (Avg. Loss 2.823, Accuracy 27.9): 100%|██████████| 348/348 [02:14<00:00,  2.58it/s]\n",
      "test_batch (Avg. Loss 2.194, Accuracy 36.3): 100%|██████████| 38/38 [00:06<00:00,  5.76it/s]\n",
      "ACT I. The womach the surt in the wing the that\n",
      "    To of the the the the enlile you the enmerere,\n",
      " \n",
      "--- EPOCH 2/50 ---\n",
      "train_batch (Avg. Loss 1.827, Accuracy 47.1): 100%|██████████| 348/348 [02:08<00:00,  2.71it/s]\n",
      "test_batch (Avg. Loss 1.779, Accuracy 47.2): 100%|██████████| 38/38 [00:06<00:00,  5.90it/s]\n",
      "ACT I.\n",
      "\n",
      "                                                                                            \n",
      "--- EPOCH 3/50 ---\n",
      "train_batch (Avg. Loss 1.637, Accuracy 52.1): 100%|██████████| 348/348 [02:08<00:00,  2.71it/s]\n",
      "test_batch (Avg. Loss 1.645, Accuracy 50.6): 100%|██████████| 38/38 [00:06<00:00,  5.89it/s]\n",
      "ACT I.\n",
      "\n",
      "                                                                                            \n",
      "--- EPOCH 4/50 ---\n",
      "train_batch (Avg. Loss 1.558, Accuracy 54.1): 100%|██████████| 348/348 [02:08<00:00,  2.72it/s]\n",
      "test_batch (Avg. Loss 1.584, Accuracy 52.2): 100%|██████████| 38/38 [00:06<00:00,  5.84it/s]\n",
      "ACT I.\n",
      "    The world be the service and would have the bose\n",
      "    That he will was a word of my strang\n",
      "--- EPOCH 5/50 ---\n",
      "train_batch (Avg. Loss 1.514, Accuracy 55.3): 100%|██████████| 348/348 [02:08<00:00,  2.71it/s]\n",
      "test_batch (Avg. Loss 1.546, Accuracy 53.1): 100%|██████████| 38/38 [00:06<00:00,  5.99it/s]\n",
      "ACT I.\n",
      "\n",
      "                                                                                            \n",
      "--- EPOCH 6/50 ---\n",
      "train_batch (Avg. Loss 1.486, Accuracy 56.0): 100%|██████████| 348/348 [02:08<00:00,  2.72it/s]\n",
      "test_batch (Avg. Loss 1.513, Accuracy 54.0): 100%|██████████| 38/38 [00:06<00:00,  5.95it/s]\n",
      "ACT I.\n",
      "    I have not mercy in the flesh and brother to come.\n",
      "    Here is a suit of a land and a pre\n",
      "--- EPOCH 7/50 ---\n",
      "train_batch (Avg. Loss 1.464, Accuracy 56.5): 100%|██████████| 348/348 [02:08<00:00,  2.71it/s]\n",
      "test_batch (Avg. Loss 1.494, Accuracy 54.4): 100%|██████████| 38/38 [00:06<00:00,  5.94it/s]\n",
      "ACT I.\n",
      "                                                                                             \n",
      "--- EPOCH 8/50 ---\n",
      "train_batch (Avg. Loss 1.448, Accuracy 56.9): 100%|██████████| 348/348 [02:08<00:00,  2.71it/s]\n",
      "test_batch (Avg. Loss 1.479, Accuracy 54.8): 100%|██████████| 38/38 [00:06<00:00,  5.89it/s]\n",
      "ACT I.\n",
      "                                                                                             \n",
      "--- EPOCH 9/50 ---\n",
      "train_batch (Avg. Loss 1.436, Accuracy 57.3): 100%|██████████| 348/348 [02:08<00:00,  2.71it/s]\n",
      "test_batch (Avg. Loss 1.469, Accuracy 55.1): 100%|██████████| 38/38 [00:06<00:00,  5.89it/s]\n",
      "ACT I.\n",
      "                                                                                Exit.\n",
      "\n",
      "      \n",
      "--- EPOCH 10/50 ---\n",
      "train_batch (Avg. Loss 1.425, Accuracy 57.6): 100%|██████████| 348/348 [02:08<00:00,  2.71it/s]\n",
      "test_batch (Avg. Loss 1.464, Accuracy 55.3): 100%|██████████| 38/38 [00:06<00:00,  5.96it/s]\n",
      "ACT I.\n",
      "                                                                                             \n",
      "--- EPOCH 11/50 ---\n",
      "train_batch (Avg. Loss 1.416, Accuracy 57.8): 100%|██████████| 348/348 [02:08<00:00,  2.70it/s]\n",
      "test_batch (Avg. Loss 1.461, Accuracy 55.4): 100%|██████████| 38/38 [00:06<00:00,  5.96it/s]\n",
      "ACT I.\n",
      "    The service was a part of a consent of the cannot\n",
      "    That I was but he was the removing \n",
      "--- EPOCH 12/50 ---\n",
      "train_batch (Avg. Loss 1.408, Accuracy 58.0): 100%|██████████| 348/348 [02:08<00:00,  2.71it/s]\n",
      "test_batch (Avg. Loss 1.450, Accuracy 55.6): 100%|██████████| 38/38 [00:06<00:00,  5.96it/s]\n",
      "ACT I.\n",
      "  SECOND LORD. He hath for the way of such a triel of sweet souls;\n",
      "    to the story of the ma\n",
      "--- EPOCH 13/50 ---\n",
      "train_batch (Avg. Loss 1.400, Accuracy 58.2): 100%|██████████| 348/348 [02:08<00:00,  2.71it/s]\n",
      "test_batch (Avg. Loss 1.443, Accuracy 55.8): 100%|██████████| 38/38 [00:06<00:00,  5.92it/s]\n",
      "ACT I.\n",
      "                                                                                             \n",
      "--- EPOCH 14/50 ---\n",
      "train_batch (Avg. Loss 1.394, Accuracy 58.3): 100%|██████████| 348/348 [02:08<00:00,  2.71it/s]\n",
      "test_batch (Avg. Loss 1.440, Accuracy 55.9): 100%|██████████| 38/38 [00:06<00:00,  5.90it/s]\n",
      "ACT I.\n",
      "  QUEEN ELIZABETH. I shall be no more of his heart in the curse of him.\n",
      "  MENENIUS. What hath\n",
      "--- EPOCH 15/50 ---\n",
      "train_batch (Avg. Loss 1.388, Accuracy 58.5): 100%|██████████| 348/348 [02:08<00:00,  2.70it/s]\n",
      "test_batch (Avg. Loss 1.439, Accuracy 55.9): 100%|██████████| 38/38 [00:06<00:00,  5.94it/s]\n",
      "ACT I.\n",
      "  FIRST SERVANT. And shall I do no man and words of the first\n",
      "    to the randor and hold at h\n",
      "--- EPOCH 16/50 ---\n",
      "train_batch (Avg. Loss 1.383, Accuracy 58.6): 100%|██████████| 348/348 [02:08<00:00,  2.71it/s]\n",
      "test_batch (Avg. Loss 1.434, Accuracy 56.0): 100%|██████████| 38/38 [00:06<00:00,  5.95it/s]\n",
      "ACT I.\n",
      "    The crown shall be this day, the speed of the fortune,\n",
      "    That I am a spring her brother\n",
      "--- EPOCH 17/50 ---\n",
      "train_batch (Avg. Loss 1.378, Accuracy 58.7): 100%|██████████| 348/348 [02:08<00:00,  2.71it/s]\n",
      "test_batch (Avg. Loss 1.427, Accuracy 56.2): 100%|██████████| 38/38 [00:06<00:00,  5.97it/s]\n",
      "ACT I.\n",
      "    Which is the sight and strike to hear the child\n",
      "    With a wars of his profession of her \n",
      "--- EPOCH 18/50 ---\n",
      "train_batch (Avg. Loss 1.374, Accuracy 58.8): 100%|██████████| 348/348 [02:08<00:00,  2.71it/s]\n",
      "test_batch (Avg. Loss 1.427, Accuracy 56.3): 100%|██████████| 38/38 [00:06<00:00,  5.79it/s]\n",
      "ACT I.\n",
      "    And then, be for your commands of the men.\n",
      "    The tongue of the provided you will be it \n",
      "--- EPOCH 19/50 ---\n",
      "train_batch (Avg. Loss 1.370, Accuracy 58.9): 100%|██████████| 348/348 [02:08<00:00,  2.71it/s]\n",
      "test_batch (Avg. Loss 1.420, Accuracy 56.4): 100%|██████████| 38/38 [00:06<00:00,  5.76it/s]\n",
      "ACT I. So Sir Juch a country\n",
      "    And see the service of words in his sixth.\n",
      "  CLOWN. Now I have so m\n",
      "--- EPOCH 20/50 ---\n",
      "train_batch (Avg. Loss 1.366, Accuracy 59.0): 100%|██████████| 348/348 [02:08<00:00,  2.71it/s]\n",
      "test_batch (Avg. Loss 1.421, Accuracy 56.3): 100%|██████████| 38/38 [00:06<00:00,  5.80it/s]\n",
      "ACT I.\n",
      "    Look you he shall be so much of a dear pirity that he will\n",
      "    have for the valiant the w\n",
      "--- EPOCH 21/50 ---\n",
      "train_batch (Avg. Loss 1.362, Accuracy 59.1): 100%|██████████| 348/348 [02:08<00:00,  2.70it/s]\n",
      "test_batch (Avg. Loss 1.418, Accuracy 56.4): 100%|██████████| 38/38 [00:06<00:00,  5.97it/s]\n",
      "ACT I. See on the whole heart\n",
      "                                                                      \n",
      "--- EPOCH 22/50 ---\n",
      "train_batch (Avg. Loss 1.359, Accuracy 59.2): 100%|██████████| 348/348 [02:08<00:00,  2.71it/s]\n",
      "test_batch (Avg. Loss 1.415, Accuracy 56.5): 100%|██████████| 38/38 [00:06<00:00,  5.86it/s]\n",
      "ACT I.\n",
      "                                                                                             \n",
      "--- EPOCH 23/50 ---\n",
      "train_batch (Avg. Loss 1.356, Accuracy 59.3): 100%|██████████| 348/348 [02:08<00:00,  2.70it/s]\n",
      "test_batch (Avg. Loss 1.414, Accuracy 56.5): 100%|██████████| 38/38 [00:06<00:00,  5.94it/s]\n",
      "ACT I.\n",
      "                                                                                             \n",
      "--- EPOCH 24/50 ---\n",
      "train_batch (Avg. Loss 1.353, Accuracy 59.3): 100%|██████████| 348/348 [02:08<00:00,  2.71it/s]\n",
      "test_batch (Avg. Loss 1.408, Accuracy 56.6): 100%|██████████| 38/38 [00:06<00:00,  5.80it/s]\n",
      "ACT I. The King that should\n",
      "    That we have seen his proceeding that the virtue\n",
      "    In the for a fa\n",
      "--- EPOCH 25/50 ---\n",
      "train_batch (Avg. Loss 1.351, Accuracy 59.4): 100%|██████████| 348/348 [02:08<00:00,  2.71it/s]\n",
      "test_batch (Avg. Loss 1.402, Accuracy 56.8): 100%|██████████| 38/38 [00:06<00:00,  5.66it/s]\n",
      "ACT I.\n",
      "                                                                                             \n",
      "--- EPOCH 26/50 ---\n",
      "train_batch (Avg. Loss 1.348, Accuracy 59.4): 100%|██████████| 348/348 [02:08<00:00,  2.71it/s]\n",
      "test_batch (Avg. Loss 1.402, Accuracy 56.8): 100%|██████████| 38/38 [00:06<00:00,  5.95it/s]\n",
      "ACT I. What shall I prithee?\n",
      "  Fal. What doth he not see the child as I say the day?\n",
      "  Bene. But sha\n",
      "--- EPOCH 27/50 ---\n",
      "train_batch (Avg. Loss 1.346, Accuracy 59.5): 100%|██████████| 348/348 [02:08<00:00,  2.71it/s]\n",
      "test_batch (Avg. Loss 1.402, Accuracy 56.8): 100%|██████████| 38/38 [00:06<00:00,  5.94it/s]\n",
      "ACT I. What shall I was\n",
      "    The single as the supple of the life of a brother;\n",
      "    And here came he \n",
      "--- EPOCH 28/50 ---\n",
      "train_batch (Avg. Loss 1.343, Accuracy 59.6): 100%|██████████| 348/348 [02:09<00:00,  2.68it/s]\n",
      "test_batch (Avg. Loss 1.401, Accuracy 56.9): 100%|██████████| 38/38 [00:06<00:00,  5.78it/s]\n",
      "ACT I. Now and the remains of death,\n",
      "    good father, the world of the promise of a word of the pass\n",
      "--- EPOCH 29/50 ---\n",
      "train_batch (Avg. Loss 1.342, Accuracy 59.6): 100%|██████████| 348/348 [02:11<00:00,  2.64it/s]\n",
      "test_batch (Avg. Loss 1.398, Accuracy 56.9): 100%|██████████| 38/38 [00:06<00:00,  5.75it/s]\n",
      "ACT I.\n",
      "    My lord, and I have in the long of his lives,\n",
      "    And then he would be so much to the pri\n",
      "--- EPOCH 30/50 ---\n",
      "train_batch (Avg. Loss 1.340, Accuracy 59.7): 100%|██████████| 348/348 [02:11<00:00,  2.65it/s]\n",
      "test_batch (Avg. Loss 1.395, Accuracy 57.0): 100%|██████████| 38/38 [00:06<00:00,  5.76it/s]\n",
      "ACT I.\n",
      "                                                               Exit PAGE\n",
      "\n",
      "                   \n",
      "--- EPOCH 31/50 ---\n",
      "train_batch (Avg. Loss 1.337, Accuracy 59.7): 100%|██████████| 348/348 [02:11<00:00,  2.64it/s]\n",
      "test_batch (Avg. Loss 1.392, Accuracy 57.0): 100%|██████████| 38/38 [00:06<00:00,  5.80it/s]\n",
      "ACT I. He will see,\n",
      "    Part, I was a can fain the men that may be stragged\n",
      "    The world of a fire \n",
      "--- EPOCH 32/50 ---\n",
      "train_batch (Avg. Loss 1.335, Accuracy 59.8): 100%|██████████| 348/348 [02:12<00:00,  2.63it/s]\n",
      "test_batch (Avg. Loss 1.393, Accuracy 57.0): 100%|██████████| 38/38 [00:06<00:00,  5.68it/s]\n",
      "ACT I. STENFERDENUS. You shall see\n",
      "    The secret of many seasons are at the offender.\n",
      "    The compa\n",
      "--- EPOCH 33/50 ---\n",
      "train_batch (Avg. Loss 1.334, Accuracy 59.8): 100%|██████████| 348/348 [02:11<00:00,  2.64it/s]\n",
      "test_batch (Avg. Loss 1.391, Accuracy 57.1): 100%|██████████| 38/38 [00:06<00:00,  5.74it/s]\n",
      "ACT I. Scorn I can,\n",
      "    The court of the more of the other son,\n",
      "    And fair and her face is the cau\n",
      "--- EPOCH 34/50 ---\n",
      "train_batch (Avg. Loss 1.332, Accuracy 59.8): 100%|██████████| 348/348 [02:11<00:00,  2.64it/s]\n",
      "test_batch (Avg. Loss 1.392, Accuracy 57.0): 100%|██████████| 38/38 [00:06<00:00,  5.76it/s]\n",
      "ACT I.\n",
      "                                                                    Exit ANTONY\n",
      "             \n",
      "--- EPOCH 35/50 ---\n",
      "train_batch (Avg. Loss 1.330, Accuracy 59.9): 100%|██████████| 348/348 [02:11<00:00,  2.64it/s]\n",
      "test_batch (Avg. Loss 1.388, Accuracy 57.1): 100%|██████████| 38/38 [00:06<00:00,  5.64it/s]\n",
      "ACT I.\n",
      "  SIR TOBY. I am a man and the street of the gods are gone.\n",
      "  PISTOL. What the state shall I \n",
      "--- EPOCH 36/50 ---\n",
      "train_batch (Avg. Loss 1.329, Accuracy 59.9): 100%|██████████| 348/348 [02:11<00:00,  2.64it/s]\n",
      "test_batch (Avg. Loss 1.384, Accuracy 57.2): 100%|██████████| 38/38 [00:06<00:00,  5.75it/s]\n",
      "ACT I.\n",
      "    He lives a word of my soul.\n",
      "  EVANS. What is the man of his words?\n",
      "  CLOWN. No, I have an\n",
      "--- EPOCH 37/50 ---\n",
      "train_batch (Avg. Loss 1.328, Accuracy 59.9): 100%|██████████| 348/348 [02:11<00:00,  2.64it/s]\n",
      "test_batch (Avg. Loss 1.389, Accuracy 57.1): 100%|██████████| 38/38 [00:06<00:00,  5.75it/s]\n",
      "ACT I. Sir, I had call'd you.\n",
      "    And the more than I thank you, that have I see thee;\n",
      "    The soul \n",
      "--- EPOCH 38/50 ---\n",
      "train_batch (Avg. Loss 1.326, Accuracy 60.0): 100%|██████████| 348/348 [02:11<00:00,  2.64it/s]\n",
      "test_batch (Avg. Loss 1.382, Accuracy 57.3): 100%|██████████| 38/38 [00:06<00:00,  5.73it/s]\n",
      "ACT I.\n",
      "    He cannot come to see the world to right.\n",
      "    O Hamlet should be made of her or this,\n",
      "   \n",
      "--- EPOCH 39/50 ---\n",
      "train_batch (Avg. Loss 1.325, Accuracy 60.0): 100%|██████████| 348/348 [02:11<00:00,  2.65it/s]\n",
      "test_batch (Avg. Loss 1.381, Accuracy 57.3): 100%|██████████| 38/38 [00:06<00:00,  5.73it/s]\n",
      "ACT I.\n",
      "    The truth of such to the contents of thy sake.\n",
      "                                          \n",
      "--- EPOCH 40/50 ---\n",
      "train_batch (Avg. Loss 1.323, Accuracy 60.0): 100%|██████████| 348/348 [02:11<00:00,  2.65it/s]\n",
      "test_batch (Avg. Loss 1.378, Accuracy 57.3): 100%|██████████| 38/38 [00:06<00:00,  5.69it/s]\n",
      "ACT I.\n",
      "    He hath so much a king of the pains\n",
      "    That the sun had a son to his hand of words\n",
      "    H\n",
      "--- EPOCH 41/50 ---\n",
      "train_batch (Avg. Loss 1.322, Accuracy 60.1): 100%|██████████| 348/348 [02:11<00:00,  2.65it/s]\n",
      "test_batch (Avg. Loss 1.376, Accuracy 57.3): 100%|██████████| 38/38 [00:06<00:00,  5.74it/s]\n",
      "ACT I. My lord,\n",
      "    Who is not he that is a turn and the man.\n",
      "    I would be so fair to the country \n",
      "--- EPOCH 42/50 ---\n",
      "train_batch (Avg. Loss 1.321, Accuracy 60.1): 100%|██████████| 348/348 [02:11<00:00,  2.64it/s]\n",
      "test_batch (Avg. Loss 1.379, Accuracy 57.4): 100%|██████████| 38/38 [00:06<00:00,  5.74it/s]\n",
      "ACT I.\n",
      "    What hath he be the house? What was your honour,\n",
      "    So much the false to my heart he did\n",
      "--- EPOCH 43/50 ---\n",
      "train_batch (Avg. Loss 1.320, Accuracy 60.1): 100%|██████████| 348/348 [02:11<00:00,  2.64it/s]\n",
      "test_batch (Avg. Loss 1.378, Accuracy 57.4): 100%|██████████| 38/38 [00:06<00:00,  5.74it/s]\n",
      "ACT I. Speak a gentleman.\n",
      "    I will not prove a long contempt of his heart,\n",
      "    The second gloves a\n",
      "--- EPOCH 44/50 ---\n",
      "train_batch (Avg. Loss 1.318, Accuracy 60.2): 100%|██████████| 348/348 [02:11<00:00,  2.64it/s]\n",
      "test_batch (Avg. Loss 1.377, Accuracy 57.3): 100%|██████████| 38/38 [00:06<00:00,  5.81it/s]\n",
      "ACT I.\n",
      "    He cannot prove the means of his wife,\n",
      "    And all the kings of the cause of the hand.\n",
      "  \n",
      "--- EPOCH 45/50 ---\n",
      "train_batch (Avg. Loss 1.317, Accuracy 60.2): 100%|██████████| 348/348 [02:11<00:00,  2.65it/s]\n",
      "test_batch (Avg. Loss 1.378, Accuracy 57.4): 100%|██████████| 38/38 [00:06<00:00,  5.84it/s]\n",
      "ACT I. SIR TOBY\n",
      "                                                                                    \n",
      "--- EPOCH 46/50 ---\n",
      "train_batch (Avg. Loss 1.317, Accuracy 60.2): 100%|██████████| 348/348 [02:11<00:00,  2.64it/s]\n",
      "test_batch (Avg. Loss 1.375, Accuracy 57.4): 100%|██████████| 38/38 [00:06<00:00,  5.69it/s]\n",
      "ACT I.\n",
      "    The daughter of her crown with me to hard the court\n",
      "    To speak the land and her man to \n",
      "--- EPOCH 47/50 ---\n",
      "train_batch (Avg. Loss 1.315, Accuracy 60.3): 100%|██████████| 348/348 [02:11<00:00,  2.65it/s]\n",
      "test_batch (Avg. Loss 1.374, Accuracy 57.4): 100%|██████████| 38/38 [00:06<00:00,  5.74it/s]\n",
      "ACT I.\n",
      "    Now I'll be so so seat'd a word to be my man\n",
      "    In your brother in the quarrel of the wa\n",
      "--- EPOCH 48/50 ---\n",
      "train_batch (Avg. Loss 1.314, Accuracy 60.3): 100%|██████████| 348/348 [02:11<00:00,  2.65it/s]\n",
      "test_batch (Avg. Loss 1.373, Accuracy 57.5): 100%|██████████| 38/38 [00:06<00:00,  5.82it/s]\n",
      "ACT I. The Duke\n",
      "                                                                                    \n",
      "--- EPOCH 49/50 ---\n",
      "train_batch (Avg. Loss 1.313, Accuracy 60.3): 100%|██████████| 348/348 [02:11<00:00,  2.65it/s]\n",
      "test_batch (Avg. Loss 1.374, Accuracy 57.5): 100%|██████████| 38/38 [00:06<00:00,  5.72it/s]\n",
      "ACT I.\n",
      "                                                                  Exit\n",
      "\n",
      "SCENE II.\n",
      "And the KIN\n",
      "--- EPOCH 50/50 ---\n",
      "train_batch (Avg. Loss 1.312, Accuracy 60.3): 100%|██████████| 348/348 [02:11<00:00,  2.65it/s]\n",
      "test_batch (Avg. Loss 1.372, Accuracy 57.5): 100%|██████████| 38/38 [00:06<00:00,  5.72it/s]\n",
      "ACT I.\n",
      "                                                          Exeunt\n",
      "\n",
      "ACT III. SCENE I.\n",
      "The Cardi\n"
     ]
    },
    {
     "data": {
      "image/png": "[encoded data removed]",
      "text/plain": [
       "<Figure size 1600x1000 with 4 Axes>"
      ]
     },
     "metadata": {},
     "output_type": "display_data"
    }
   ],
   "source": [
    "from cs236781.plot import plot_fit\n",
    "\n",
    "def post_epoch_fn(epoch, train_res, test_res, verbose):\n",
    "    # Update learning rate\n",
    "    #scheduler.step(test_res.accuracy)\n",
    "    # Sample from model to show progress\n",
    "    if verbose:\n",
    "        start_seq = \"ACT I.\"\n",
    "        generated_sequence = charnn.generate_from_model(\n",
    "            model, start_seq, 100, (char_to_idx,idx_to_char), T=0.5\n",
    "        )\n",
    "        print(generated_sequence)\n",
    "\n",
    "# Train, unless final checkpoint is found\n",
    "checkpoint_file_final = f'{checkpoint_file}_final.pt'\n",
    "if os.path.isfile(checkpoint_file_final):\n",
    "    print(f'*** Loading final checkpoint file {checkpoint_file_final} instead of training')\n",
    "    saved_state = torch.load(checkpoint_file_final, map_location=device)\n",
    "    model.load_state_dict(saved_state['model_state'])\n",
    "else:\n",
    "    try:\n",
    "        # Print pre-training sampling\n",
    "        print(charnn.generate_from_model(model, \"ACT I.\", 100, (char_to_idx,idx_to_char), T=0.5))\n",
    "\n",
    "        fit_res = trainer.fit(dl_train, dl_test, num_epochs, max_batches=None,\n",
    "                              post_epoch_fn=post_epoch_fn, early_stopping=early_stopping,\n",
    "                              checkpoints=checkpoint_file, print_every=1)\n",
    "        \n",
    "        fig, axes = plot_fit(fit_res)\n",
    "    except KeyboardInterrupt as e:\n",
    "        print('\\n *** Training interrupted by user')"
   ]
  },
  {
   "cell_type": "markdown",
   "metadata": {},
   "source": [
    "### Generating a work of art\n",
    "<a id=part1_8></a>"
   ]
  },
  {
   "cell_type": "markdown",
   "metadata": {},
   "source": [
    "Armed with our fully trained model, let's generate the next Hamlet! You should experiment with modifying the sampling temperature and see what happens.\n",
    "\n",
    "The text you generate should “look” like a Shakespeare play:\n",
    "old-style English words and sentence structure, directions for the actors\n",
    "(like “Exit/Enter”), sections (Act I/Scene III) etc.\n",
    "There will be no coherent plot of course, but it should at least seem like\n",
    "a Shakespearean play when not looking too closely.\n",
    "If this is not what you see, go back, debug and/or and re-train.\n",
    "\n",
    "**TODO**: Specify the generation parameters in the `part1_generation_params()` function within the `hw3/answers.py` module."
   ]
  },
  {
   "cell_type": "code",
   "execution_count": 33,
   "metadata": {
    "scrolled": true
   },
   "outputs": [
    {
     "name": "stdout",
     "output_type": "stream",
     "text": [
      "Yo William man, how u doin? The field\n",
      "     Where the child is good to the place of the house,\n",
      "                                                                    Exeunt ERWINGHEO\n",
      "    Hast thou shall prove his head that I have not,\n",
      "    Before the same garland and envious service.\n",
      "                                                                           Exeunt\n",
      "\n",
      "SCENE III.\n",
      "A speech of so Stands and Cutning.\n",
      "\n",
      "Enter SERVANT and JULIA with his tongue, and THIRD SERVANT\n",
      "                                                                                                                                        Exeunt poor Saint PLORIAN\n",
      "\n",
      "                                    Enter Leonato,\n",
      "                                                                                                Exit Burgundy\n",
      "\n",
      "                           Enter BELARIUS\n",
      "\n",
      "  CLOWN. I know I can stand a window to the other rest and\n",
      "    the bastard of a king.\n",
      "  BRUTUS. What say you with your honour? Where's this in the soul?\n",
      "  HERMIONE. The more for your grace is a lady.\n",
      "  CAESAR. Be the lady comfort to a good because he hath\n",
      "    the thought of heaven to do it with the cannot to death and\n",
      "    with a sound of the gallent both with the princely discovering of the\n",
      "    tongue of your present country of thy breast; for the company of the deed, to see\n",
      "    the seignion of his souls, and he hath been no more than he was a sin\n",
      "    a carriage to mine own father.\n",
      "  BRUTUS. I have seen the devil is in the place to the soldier\n",
      "    with his servant. The rest in the world is a good word in the fortune\n",
      "    are to come to her land and the good a mark of his honour of his son\n",
      "    with your wife in a word of the world of the hand to gave her\n",
      "    and tell me to person them.\n",
      "  CLOWN. My lord, I must be so well as he shall to the country and\n",
      "    the case of his soul and her heart to him. If you must be not a true\n",
      "    to my conqueror.\n",
      "  BUCKINGHAM. Why, a fortune, which comes him to his wife, I say I cannot be\n",
      "    have sing of his valiant company that I have a still would see the\n",
      "    and the noble sea here and this way his fortune of a man\n",
      "    and we will with her life. I stand with him his house, the cause\n",
      "    and strange to the best of Winchester was the great sun-\n",
      "    I am known to the brother of the fortune the lover\n",
      "    and now the base white and so long before her with me his state, the\n",
      "    son of his house of the blood of the brave wars of the reasons of my head\n",
      "    with the poor words of my truth. I think he was enguous to see\n",
      "    a woman's princely set with your heart, which was such a friend to the place of\n",
      "    his father to have a content of the bed hath with him to and how thou\n",
      "    hath a more fear of the lady shall be have rest a word of his\n",
      "    occasion of the day of the court and a cousin of your grace\n",
      "    death.\n",
      "  JULIA. You are a present and here, that will I be the single heart\n",
      "    to the partied of earth and the shame of the end of you,\n",
      "    who have I have a heavy expectance and same to the court\n",
      "    than the bellow of partidy shall be well to have our honour.\n",
      "                                                       Exeunt CASSIUS\n",
      "\n",
      "  TITUS. What have you a sorrow?\n",
      "  PROSPERO. I have a soldier is not of his death.\n",
      "    I am the angry that make the presence of your\n",
      "    Company and our power hath maintained the word\n",
      "    To come with the street of his honour had the world.\n",
      "    Now farewell- he was a fire of the house,\n",
      "    The storm of the thing the heart of the world,\n",
      "    That that I have leave the hand of our hands\n",
      "    And seek the true and word in a Roman,\n",
      "    And here content in the lady and a heart\n",
      "    To be a soldier in the sight of the start\n",
      "    With plays to stand at his hands and weeping death,\n",
      "    And will have a crown of his presence shall,\n",
      "    The complaint shall see the duke of her head,\n",
      "    The villains of the calling hate a present\n",
      "    That he do not say the offence of your sweet.\n",
      "    I pray you cannot be so. I will not stay far,\n",
      "    Or if the brother is no more to see\n",
      "    Him to see you come to the blood of the court\n",
      "    To lay the world of the soul of the way,\n",
      "    And see the sight of the charge to the spring.\n",
      "    Thy daughter, my lord, that shall I not leave me\n",
      "    That the sea on the street of the wind of the fault.\n",
      "    The man is a gentleman.\n",
      "  MACBETH. The Countest feeling hath he hath content\n",
      "    The strange profane of her particular\n",
      "    And save the tender conscience and the care\n",
      "    That I will see the place of the three death,\n",
      "    And have with the beast of her honour the blood\n",
      "    That shall be saved a thing of her our peaces.\n",
      "    I have a constant of where in his heart,\n",
      "    And with a hundred same faith, and open'd,\n",
      "    And his souls that have no more report'd and grace\n",
      "    The letter so may it were a speech of peace.\n",
      "                                                                  Exeunt\n",
      "\n",
      "SCENE III.\n",
      "Let us the state of Critaching and speaks\n",
      "\n",
      "Enter ROSALIND, and CLEOPATRA'S company\n",
      "\n",
      "    O, the boy, you have seen the fair parties\n",
      "    That we have breathed his house and word of his cardinal\n",
      "    That have one have shall be palace of man\n",
      "    That she shall not see the bond of her soul\n",
      "    That the spirit of the sheet of his heart,\n",
      "    That have been with him to be gracious sail;\n",
      "    He his court of dear proceeding brother doth see\n",
      "    So served to the world of the carriage  \n",
      "    That see the trumpet that the face of the sean\n",
      "    That he shall love the way, when the souls have\n",
      "    With many beauty of your love and his blood,\n",
      "    For I have prophet to the place of the own.\n",
      "    And shall I were a content and the court?\n",
      "    I will have thee strange, and the sun did still,\n",
      "    I have read his father do you all to him;\n",
      "    The part of the request of the world will hear\n",
      "    The body of the complaint of contents,\n",
      "    That the person of Antony that the seas.\n",
      "    We are voice to did her have done the grief\n",
      "    That I have a fair content that can in my grave\n",
      "    That will for the divided head of all\n",
      "    That have I our profit of my son and grace\n",
      "    And not prove a service of the life.\n",
      "    This gallant, therefore I were a work here,\n",
      "    That I think the hand is good a mountain\n",
      "    Ere thy son he is a from a slow of the men\n",
      "    Shall be so good and men to understand\n",
      "    The such a with the earth of a mother,\n",
      "    And see thee where you shall please you up\n",
      "    The way of the enemy of the soul  \n",
      "    And we have confess'd in the world in her.\n",
      "    The sweet eyes of hands of state of him, the death,\n",
      "    And bring your brain he shall constant a proper tongue\n",
      "    That shall be so for the company of his heart\n",
      "    That the sun of battle is come to the hand\n",
      "    Make me a birth to die a word in the mother,\n",
      "    And to you every pack of his son.\n",
      "    Be standed to his love and state of the fhourage\n",
      "    To go to the world of this house to death;\n",
      "    And the order of the proves of his hands\n",
      "    Is she known in the true of the world,\n",
      "    And should not with a fool and the beard,\n",
      "    Have done the proud to his sight and more will\n",
      "    That should be to the world in the reproof.\n",
      "    That we are of a bear that I am sorry,\n",
      "    To show the souls of his hand of some hand,\n",
      "    And resolved me the country of the world\n",
      "    That is such time of my son and company.\n",
      "    What are you strange as the man have I saved,\n",
      "    The house of life on the spirit of his soul.\n",
      "    And he doth speak to the bare enemied,\n",
      "    That you have pity the noble tongue of his hand;\n",
      "    And she was well in her power the rest of me,\n",
      "    And the devil the next state and sister\n",
      "    Was the propheties of her prince of the battle.\n",
      "    O it is gone.\n",
      "  CRESSIDA. I have no more of a man than the trust\n",
      "    That you have a charge of the spirit of his death,\n",
      "    We are advised to him the wars of his death\n",
      "    That is no more courtesy and his countenance\n",
      "    Than the rest and honour of his sword,\n",
      "    And rebellion to her charge of heaven.\n",
      "    Our father the part of the world were thrown\n",
      "    That shall the better he pray thee proceed\n",
      "    Her state are play'd to see the water and the man\n",
      "    That the villain of his heart with his death\n",
      "    That my sword and heaven that we have courtesy,\n",
      "    No more and word and some of the world,\n",
      "    That are to be such a proper fair,\n",
      "    And have such a slave the fire of all the world,\n",
      "    And what he hath seen the good to her traitors.\n",
      "    Let me wear the stream of the waste in the good\n",
      "    That we cannot not have been so for the love,\n",
      "    And this is the shick of her son, and lives\n",
      "    And have a shame of his soldiers read at his face.\n",
      "    Stand upon the mother of the brother,\n",
      "    The world shall prove the great and heart of life.\n",
      "    But the heart shall be the purpose of the devil,\n",
      "    When the present honour dead of the orator,\n",
      "    But we may serve her with his bloody sea on,\n",
      "    To the King of Citizen, and most too,\n",
      "    The land with his leave of the truth strikes,\n",
      "    And the speech of the other cares in heaven,\n",
      "    And have been as he hath let the subject.\n",
      "    So we shall see him to be ended and state;\n",
      "    The service of the father's friend of this court\n",
      "    As the thing have not set our hands and bed\n",
      "    In the age and the dream of that hands\n",
      "    In the beaten to the prince of the reason\n",
      "    To the lady of a crown of a profession\n",
      "    To grant the part of the account of the streets.\n",
      "    What should I can see her of the bed-\n",
      "    The lady is a man in his proceedings,\n",
      "    That I have confirm'd the country for him.\n",
      "    The victor of the boy, and did we did\n",
      "    To move a crown he shall not find me prove\n",
      "    That would be so many hands and word to see thee,\n",
      "    And with him did not strike a sound and death,\n",
      "    Be strange and to the earth of the world;\n",
      "    And the son of a prince of the rest\n",
      "    With a holy officer and suvoration\n",
      "    Were a mouth of this heart to my sword shall\n",
      "    To show the more power, and the heart which\n",
      "    And to she dead her words and hand and seest\n",
      "    I have distract'd our proceeding services,\n",
      "    That I cannot proceed thee them. You have been\n",
      "    My wars that have sh\n"
     ]
    }
   ],
   "source": [
    "from hw3.answers import part1_generation_params\n",
    "\n",
    "start_seq, temperature = part1_generation_params()\n",
    "\n",
    "generated_sequence = charnn.generate_from_model(\n",
    "    model, start_seq, 10000, (char_to_idx,idx_to_char), T=temperature\n",
    ")\n",
    "\n",
    "print(generated_sequence)"
   ]
  },
  {
   "cell_type": "markdown",
   "metadata": {},
   "source": [
    "## Questions\n",
    "<a id=part1_9></a>"
   ]
  },
  {
   "cell_type": "markdown",
   "metadata": {},
   "source": [
    "**TODO** Answer the following questions. Write your answers in the appropriate variables in the module `hw3/answers.py`."
   ]
  },
  {
   "cell_type": "code",
   "execution_count": 22,
   "metadata": {},
   "outputs": [],
   "source": [
    "from cs236781.answers import display_answer\n",
    "import hw3.answers"
   ]
  },
  {
   "cell_type": "markdown",
   "metadata": {},
   "source": [
    "### Question 1\n",
    "Why do we split the corpus into sequences instead of training on the whole text?"
   ]
  },
  {
   "cell_type": "code",
   "execution_count": 23,
   "metadata": {},
   "outputs": [
    {
     "data": {
      "text/markdown": [
       "\n",
       "We aim to divide the corpus while training for multiple reasons. By splitting the corpus into sequences, we can load manageable-sized examples into memory. This approach prevents the entire corpus from occupying all available memory. Another reason is we intend for the model to exclusively utilize recent data for predicting future characters. This allows us to minimize the impact of frequently occurring words from earlier in the corpus on our predictions.\n",
       "\n"
      ],
      "text/plain": [
       "<IPython.core.display.Markdown object>"
      ]
     },
     "metadata": {},
     "output_type": "display_data"
    }
   ],
   "source": [
    "display_answer(hw3.answers.part1_q1)"
   ]
  },
  {
   "cell_type": "markdown",
   "metadata": {},
   "source": [
    "### Question 2\n",
    "How is it possible that the generated text clearly shows memory longer than the sequence length?"
   ]
  },
  {
   "cell_type": "code",
   "execution_count": 24,
   "metadata": {},
   "outputs": [
    {
     "data": {
      "text/markdown": [
       "\n",
       "The generation of text that shows longer memory than the sequence length is made possible by utilizing memory from many sources, including the previously generated text and the hidden state of the model. The final output is not restricted only by the maximum length of the preceding sequence. This ability allows the hidden state to hold more information than the sequence length, resulting in the generation of text that passes the maximum length.\n",
       "\n"
      ],
      "text/plain": [
       "<IPython.core.display.Markdown object>"
      ]
     },
     "metadata": {},
     "output_type": "display_data"
    }
   ],
   "source": [
    "display_answer(hw3.answers.part1_q2)"
   ]
  },
  {
   "cell_type": "markdown",
   "metadata": {},
   "source": [
    "### Question 3\n",
    "Why are we not shuffling the order of batches when training?"
   ]
  },
  {
   "cell_type": "code",
   "execution_count": 25,
   "metadata": {},
   "outputs": [
    {
     "data": {
      "text/markdown": [
       "\n",
       "Since each batch is trained with consideration of the of before, the order of the training batch matters. If we shuffle the training batch, the model will not be able to learn the relationship between the characters in the corpus as it is presented.\n",
       "\n"
      ],
      "text/plain": [
       "<IPython.core.display.Markdown object>"
      ]
     },
     "metadata": {},
     "output_type": "display_data"
    }
   ],
   "source": [
    "display_answer(hw3.answers.part1_q3)"
   ]
  },
  {
   "cell_type": "markdown",
   "metadata": {},
   "source": [
    "### Question 4\n",
    "1. Why do we lower the temperature for sampling (compared to the default of $1.0$)?\n",
    "2. What happens when the temperature is very high and why?\n",
    "3. What happens when the temperature is very low and why?"
   ]
  },
  {
   "cell_type": "code",
   "execution_count": 26,
   "metadata": {},
   "outputs": [
    {
     "data": {
      "text/markdown": [
       "\n",
       "1. Lowering the temperature value affects the variability of the distribution for the next letter. By reducing the temperature to a value lower than 1, we can \"highlight\" some of the possible prediction options. This helps prevent the repetitive selection of the same letters throughout the prediction, resulting in a less deterministic model.\n",
       "\n",
       "2. When the temperature is set to a high value, the distribution of outputs becomes highly variable. No single output stands out more than others, and the outputs are distributed uniformly.\n",
       "\n",
       "3. When the temperature is set to a los value, we get adecrease in variability, resulting in a distribution with reduced variance. In this case, outputs with higher scores get higher chance to be predicted.\n",
       "\n",
       "\n"
      ],
      "text/plain": [
       "<IPython.core.display.Markdown object>"
      ]
     },
     "metadata": {},
     "output_type": "display_data"
    }
   ],
   "source": [
    "display_answer(hw3.answers.part1_q4)"
   ]
  }
 ],
 "metadata": {
  "kernelspec": {
   "display_name": "Python 3 (ipykernel)",
   "language": "python",
   "name": "python3"
  },
  "language_info": {
   "codemirror_mode": {
    "name": "ipython",
    "version": 3
   },
   "file_extension": ".py",
   "mimetype": "text/x-python",
   "name": "python",
   "nbconvert_exporter": "python",
   "pygments_lexer": "ipython3",
   "version": "3.8.12"
  }
 },
 "nbformat": 4,
 "nbformat_minor": 4
}
